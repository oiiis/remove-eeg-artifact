{
 "cells": [
  {
   "cell_type": "code",
   "execution_count": 1,
   "id": "2e0916c0",
   "metadata": {},
   "outputs": [
    {
     "name": "stdout",
     "output_type": "stream",
     "text": [
      "Collecting humann\n",
      "  Downloading humann-3.8.tar.gz (107.0 MB)\n",
      "\u001b[K     |████████████████████████████████| 107.0 MB 379 kB/s eta 0:00:01    |█████▏                          | 17.4 MB 2.0 MB/s eta 0:00:45     |██████                          | 20.4 MB 141 kB/s eta 0:10:14     |███████                         | 23.1 MB 1.3 MB/s eta 0:01:06     |█████████████████████████       | 83.3 MB 97 kB/s eta 0:04:03     |█████████████████████████▏      | 84.4 MB 97 kB/s eta 0:03:53\n",
      "\u001b[?25hSkipping wheel build for humann, due to binaries being disabled for it.\n",
      "Installing collected packages: humann\n",
      "    Running setup.py install for humann ... \u001b[?25ldone\n",
      "\u001b[?25hSuccessfully installed humann-3.8\n"
     ]
    }
   ],
   "source": [
    "!pip install humann --no-binary :all:"
   ]
  },
  {
   "cell_type": "code",
   "execution_count": null,
   "id": "a381e9ba",
   "metadata": {},
   "outputs": [],
   "source": []
  }
 ],
 "metadata": {
  "kernelspec": {
   "display_name": "Python 3 (ipykernel)",
   "language": "python",
   "name": "python3"
  },
  "language_info": {
   "codemirror_mode": {
    "name": "ipython",
    "version": 3
   },
   "file_extension": ".py",
   "mimetype": "text/x-python",
   "name": "python",
   "nbconvert_exporter": "python",
   "pygments_lexer": "ipython3",
   "version": "3.9.7"
  }
 },
 "nbformat": 4,
 "nbformat_minor": 5
}
