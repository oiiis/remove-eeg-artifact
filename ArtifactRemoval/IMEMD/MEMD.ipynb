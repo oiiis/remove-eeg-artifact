{
 "cells": [
  {
   "cell_type": "code",
   "execution_count": 10,
   "id": "04d72097",
   "metadata": {},
   "outputs": [
    {
     "name": "stdout",
     "output_type": "stream",
     "text": [
      "/Users/jiangwengyao/Desktop/A semi-simulated EEGEOG dataset for the comparison of EOG artifact rejection techniques/Contaminated_Data.mat\n"
     ]
    }
   ],
   "source": [
    "import sys\n",
    "import definitions\n",
    "import importlib\n",
    "import datasetio.read as read\n",
    "from ArtifactRemoval.utils import decompose\n",
    "import numpy as np\n",
    "import PyEMD\n",
    "import matplotlib.pyplot as plt\n",
    "import mne\n",
    "import math\n",
    "RECORD_INDEX = 1\n",
    "\n",
    "sys.path.append('/Users/jiangwengyao/Desktop/MEMD-Python--master')\n",
    "sys.path.append('/Users/jiangwengyao/Desktop/eeg-artifact-removal-master/')\n",
    "\n",
    "importlib.reload(definitions)\n",
    "importlib.reload(read)\n",
    "print(definitions.CONTAMINATED_EEG)#显示路径\n",
    "\n",
    "con_eeg = read.readRecord(RECORD_INDEX)#参数为True的情况可能表示读取的数据为包含杂散EEG数据\n",
    "pure_eeg = read.readRecord(RECORD_INDEX, False)#反之"
   ]
  },
  {
   "cell_type": "code",
   "execution_count": 11,
   "id": "cccb0d89",
   "metadata": {},
   "outputs": [],
   "source": [
    "import numpy as np\n",
    "\n",
    "from MEMD_all import memd\n",
    "\n",
    "inp = con_eeg[0:3]\n",
    "imf = memd(inp)\n",
    "imf_x = imf[:,0,:]\n",
    "imf_y = imf[:,1,:]\n",
    "imf_z = imf[:,2,:]"
   ]
  },
  {
   "cell_type": "code",
   "execution_count": 17,
   "id": "8f478058",
   "metadata": {},
   "outputs": [
    {
     "name": "stdout",
     "output_type": "stream",
     "text": [
      "[[[-1.09290571  1.56207153 -1.32786851 ... -0.31139384  1.41811659\n",
      "   -1.54012318]\n",
      "  [ 3.50545263 -2.41114612  0.71074849 ... -0.47447248 -0.43359368\n",
      "    0.50929557]\n",
      "  [-1.4868696   1.91770839 -1.5168653  ...  0.38014382  2.86750055\n",
      "   -3.31186484]]\n",
      "\n",
      " [[ 1.80973968 -1.93805098 -3.60069718 ... -0.39962138 -0.09482628\n",
      "    0.30959094]\n",
      "  [ 3.47723258 -1.67384125 -3.55025569 ...  0.92104652  0.60893845\n",
      "    0.11298318]\n",
      "  [ 2.49093836 -2.15246816 -4.60631703 ... -0.67184419 -0.28309512\n",
      "    0.20762034]]\n",
      "\n",
      " [[ 1.0700419   3.01126661  5.48066066 ...  0.01332154  0.14130268\n",
      "   -0.17773293]\n",
      "  [10.93816785 10.53920784  9.34536032 ... -0.55570997 -0.77010705\n",
      "   -0.78600524]\n",
      "  [-6.24675278 -4.22967889 -0.80842547 ...  0.61325906  0.9339778\n",
      "    0.69797164]]\n",
      "\n",
      " ...\n",
      "\n",
      " [[-2.86910179 -2.86505195 -2.86097926 ... -4.36325082 -4.35774128\n",
      "   -4.35220742]\n",
      "  [-6.00774385 -6.00141262 -5.99501527 ... -4.84073623 -4.83444888\n",
      "   -4.82813596]\n",
      "  [ 1.03515009  1.0340946   1.03301237 ... -1.83126023 -1.83101086\n",
      "   -1.8307532 ]]\n",
      "\n",
      " [[ 0.63081399  0.63106587  0.63131791 ... -1.21988606 -1.22038875\n",
      "   -1.22088815]\n",
      "  [-1.91769915 -1.91434135 -1.91097831 ... -0.37578562 -0.3757086\n",
      "   -0.37562902]\n",
      "  [ 1.68768726  1.68574027  1.68379047 ... -1.3081764  -1.30853614\n",
      "   -1.30889358]]\n",
      "\n",
      " [[-1.19070803 -1.19083128 -1.19095461 ... -1.29141802 -1.29123264\n",
      "   -1.29104713]\n",
      "  [-2.81884723 -2.81856238 -2.81827697 ...  0.15465387  0.15410828\n",
      "    0.15356184]\n",
      "  [ 0.61896049  0.61875263  0.61854448 ... -0.75073844 -0.75040481\n",
      "   -0.75007072]]]\n",
      "(12, 3, 5601)\n"
     ]
    }
   ],
   "source": [
    "res = np.array(imf)\n",
    "print(res)\n",
    "print(res.shape)"
   ]
  },
  {
   "cell_type": "code",
   "execution_count": null,
   "id": "8d052549",
   "metadata": {},
   "outputs": [],
   "source": []
  }
 ],
 "metadata": {
  "kernelspec": {
   "display_name": "Python 3 (ipykernel)",
   "language": "python",
   "name": "python3"
  },
  "language_info": {
   "codemirror_mode": {
    "name": "ipython",
    "version": 3
   },
   "file_extension": ".py",
   "mimetype": "text/x-python",
   "name": "python",
   "nbconvert_exporter": "python",
   "pygments_lexer": "ipython3",
   "version": "3.9.7"
  }
 },
 "nbformat": 4,
 "nbformat_minor": 5
}
