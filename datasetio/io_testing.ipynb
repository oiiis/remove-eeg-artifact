{
 "cells": [
  {
   "cell_type": "code",
   "execution_count": 12,
   "metadata": {
    "collapsed": true,
    "ExecuteTime": {
     "end_time": "2023-07-17T04:59:27.233053700Z",
     "start_time": "2023-07-17T04:59:27.219054800Z"
    }
   },
   "outputs": [],
   "source": [
    "import definitions\n",
    "import importlib\n",
    "import datasetio.read as read"
   ]
  },
  {
   "cell_type": "code",
   "execution_count": 13,
   "outputs": [],
   "source": [
    "RECORD_INDEX = 1"
   ],
   "metadata": {
    "collapsed": false,
    "ExecuteTime": {
     "end_time": "2023-07-17T04:59:27.988532700Z",
     "start_time": "2023-07-17T04:59:27.967744100Z"
    }
   }
  },
  {
   "cell_type": "code",
   "execution_count": 14,
   "outputs": [
    {
     "name": "stdout",
     "output_type": "stream",
     "text": [
      "D:\\Downloads\\A semi-simulated EEGEOG dataset for the comparison of EOG artifact rejection techniques\\Contaminated_Data.mat\n"
     ]
    }
   ],
   "source": [
    "importlib.reload(definitions)\n",
    "importlib.reload(read)\n",
    "print(definitions.CONTAMINATED_EEG)\n",
    "con_eeg = read.readRecord(RECORD_INDEX)\n",
    "pure_eeg = read.readRecord(RECORD_INDEX, False)"
   ],
   "metadata": {
    "collapsed": false,
    "ExecuteTime": {
     "end_time": "2023-07-17T04:59:28.947299500Z",
     "start_time": "2023-07-17T04:59:28.637410900Z"
    }
   }
  }
 ],
 "metadata": {
  "kernelspec": {
   "display_name": "Python 3",
   "language": "python",
   "name": "python3"
  },
  "language_info": {
   "codemirror_mode": {
    "name": "ipython",
    "version": 2
   },
   "file_extension": ".py",
   "mimetype": "text/x-python",
   "name": "python",
   "nbconvert_exporter": "python",
   "pygments_lexer": "ipython2",
   "version": "2.7.6"
  }
 },
 "nbformat": 4,
 "nbformat_minor": 0
}
